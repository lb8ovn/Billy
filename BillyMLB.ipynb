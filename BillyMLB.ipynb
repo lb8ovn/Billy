{
  "nbformat": 4,
  "nbformat_minor": 0,
  "metadata": {
    "colab": {
      "name": "BillyMLB.ipynb",
      "version": "0.3.2",
      "provenance": [],
      "collapsed_sections": []
    },
    "kernelspec": {
      "name": "python3",
      "display_name": "Python 3"
    }
  },
  "cells": [
    {
      "metadata": {
        "id": "t2AkukMkeXlu",
        "colab_type": "code",
        "outputId": "4f30cf20-159a-4354-8347-c1e0a2ba8406",
        "colab": {
          "base_uri": "https://localhost:8080/",
          "height": 340
        }
      },
      "cell_type": "code",
      "source": [
        "\"\"\"https://github.com/lb8ovn/Billy\"\"\"\n",
        "!pip install pybaseball\n",
        "!pip install matplotlib.pyplot as plt\n",
        "!pip install numpy as np\n",
        "!pip install pandas as pd\n",
        "!pip install sklearn"
      ],
      "execution_count": 0,
      "outputs": [
        {
          "output_type": "stream",
          "text": [
            "Collecting pybaseball\n",
            "  Downloading https://files.pythonhosted.org/packages/73/ed/032d64eddfbc0acad1cc509e5376ae63161f5ba2e079039ef04794fb51b7/pybaseball-1.0.7.tar.gz\n",
            "Requirement already satisfied: numpy>=1.13.0 in /usr/local/lib/python3.6/dist-packages (from pybaseball) (1.14.6)\n",
            "Requirement already satisfied: pandas>=0.20.2 in /usr/local/lib/python3.6/dist-packages (from pybaseball) (0.22.0)\n",
            "Requirement already satisfied: beautifulsoup4>=4.4.0 in /usr/local/lib/python3.6/dist-packages (from pybaseball) (4.6.3)\n",
            "Requirement already satisfied: requests>=2.18.1 in /usr/local/lib/python3.6/dist-packages (from pybaseball) (2.18.4)\n",
            "Requirement already satisfied: python-dateutil>=2 in /usr/local/lib/python3.6/dist-packages (from pandas>=0.20.2->pybaseball) (2.5.3)\n",
            "Requirement already satisfied: pytz>=2011k in /usr/local/lib/python3.6/dist-packages (from pandas>=0.20.2->pybaseball) (2018.9)\n",
            "Requirement already satisfied: idna<2.7,>=2.5 in /usr/local/lib/python3.6/dist-packages (from requests>=2.18.1->pybaseball) (2.6)\n",
            "Requirement already satisfied: chardet<3.1.0,>=3.0.2 in /usr/local/lib/python3.6/dist-packages (from requests>=2.18.1->pybaseball) (3.0.4)\n",
            "Requirement already satisfied: urllib3<1.23,>=1.21.1 in /usr/local/lib/python3.6/dist-packages (from requests>=2.18.1->pybaseball) (1.22)\n",
            "Requirement already satisfied: certifi>=2017.4.17 in /usr/local/lib/python3.6/dist-packages (from requests>=2.18.1->pybaseball) (2019.3.9)\n",
            "Requirement already satisfied: six>=1.5 in /usr/local/lib/python3.6/dist-packages (from python-dateutil>=2->pandas>=0.20.2->pybaseball) (1.11.0)\n",
            "Building wheels for collected packages: pybaseball\n",
            "  Building wheel for pybaseball (setup.py) ... \u001b[?25ldone\n",
            "\u001b[?25h  Stored in directory: /root/.cache/pip/wheels/ec/07/ea/c76916b911a2f060d1dfa2e900460e6b5004ef334ff83cb419\n",
            "Successfully built pybaseball\n",
            "Installing collected packages: pybaseball\n",
            "Successfully installed pybaseball-1.0.7\n"
          ],
          "name": "stdout"
        }
      ]
    }
  ]
}