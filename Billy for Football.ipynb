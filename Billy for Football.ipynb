{
 "cells": [
  {
   "cell_type": "markdown",
   "metadata": {},
   "source": [
    "<h1>Machine Learning Algorithm to Determine Winner of a Football Game</h1>"
   ]
  },
  {
   "cell_type": "code",
   "execution_count": 1,
   "metadata": {},
   "outputs": [],
   "source": [
    "URL = 'https://www.kaggle.com/tobycrabtree/nfl-scores-and-betting-data/downloads/spreadspoke_scores.csv/7'"
   ]
  },
  {
   "cell_type": "code",
   "execution_count": 2,
   "metadata": {
    "scrolled": true
   },
   "outputs": [
    {
     "data": {
      "text/html": [
       "<div>\n",
       "<style scoped>\n",
       "    .dataframe tbody tr th:only-of-type {\n",
       "        vertical-align: middle;\n",
       "    }\n",
       "\n",
       "    .dataframe tbody tr th {\n",
       "        vertical-align: top;\n",
       "    }\n",
       "\n",
       "    .dataframe thead th {\n",
       "        text-align: right;\n",
       "    }\n",
       "</style>\n",
       "<table border=\"1\" class=\"dataframe\">\n",
       "  <thead>\n",
       "    <tr style=\"text-align: right;\">\n",
       "      <th></th>\n",
       "      <th>schedule_date</th>\n",
       "      <th>schedule_season</th>\n",
       "      <th>schedule_week</th>\n",
       "      <th>team_home</th>\n",
       "      <th>team_away</th>\n",
       "      <th>stadium</th>\n",
       "      <th>team_favorite_id</th>\n",
       "      <th>spread_favorite</th>\n",
       "      <th>over_under_line</th>\n",
       "      <th>weather_detail</th>\n",
       "      <th>weather_temperature</th>\n",
       "      <th>weather_wind_mph</th>\n",
       "      <th>weather_humidity</th>\n",
       "      <th>score_home</th>\n",
       "      <th>score_away</th>\n",
       "      <th>stadium_neutral</th>\n",
       "      <th>schedule_playoff</th>\n",
       "    </tr>\n",
       "  </thead>\n",
       "  <tbody>\n",
       "    <tr>\n",
       "      <th>0</th>\n",
       "      <td>09/02/1966</td>\n",
       "      <td>1966</td>\n",
       "      <td>1</td>\n",
       "      <td>Miami Dolphins</td>\n",
       "      <td>Oakland Raiders</td>\n",
       "      <td>Orange Bowl</td>\n",
       "      <td>NaN</td>\n",
       "      <td>NaN</td>\n",
       "      <td>NaN</td>\n",
       "      <td>NaN</td>\n",
       "      <td>83.0</td>\n",
       "      <td>6.0</td>\n",
       "      <td>71</td>\n",
       "      <td>14.0</td>\n",
       "      <td>23.0</td>\n",
       "      <td>False</td>\n",
       "      <td>False</td>\n",
       "    </tr>\n",
       "    <tr>\n",
       "      <th>1</th>\n",
       "      <td>09/03/1966</td>\n",
       "      <td>1966</td>\n",
       "      <td>1</td>\n",
       "      <td>Houston Oilers</td>\n",
       "      <td>Denver Broncos</td>\n",
       "      <td>Rice Stadium</td>\n",
       "      <td>NaN</td>\n",
       "      <td>NaN</td>\n",
       "      <td>NaN</td>\n",
       "      <td>NaN</td>\n",
       "      <td>81.0</td>\n",
       "      <td>7.0</td>\n",
       "      <td>70</td>\n",
       "      <td>45.0</td>\n",
       "      <td>7.0</td>\n",
       "      <td>False</td>\n",
       "      <td>False</td>\n",
       "    </tr>\n",
       "    <tr>\n",
       "      <th>2</th>\n",
       "      <td>09/04/1966</td>\n",
       "      <td>1966</td>\n",
       "      <td>1</td>\n",
       "      <td>San Diego Chargers</td>\n",
       "      <td>Buffalo Bills</td>\n",
       "      <td>Balboa Stadium</td>\n",
       "      <td>NaN</td>\n",
       "      <td>NaN</td>\n",
       "      <td>NaN</td>\n",
       "      <td>NaN</td>\n",
       "      <td>70.0</td>\n",
       "      <td>7.0</td>\n",
       "      <td>82</td>\n",
       "      <td>27.0</td>\n",
       "      <td>7.0</td>\n",
       "      <td>False</td>\n",
       "      <td>False</td>\n",
       "    </tr>\n",
       "    <tr>\n",
       "      <th>3</th>\n",
       "      <td>09/09/1966</td>\n",
       "      <td>1966</td>\n",
       "      <td>2</td>\n",
       "      <td>Miami Dolphins</td>\n",
       "      <td>New York Jets</td>\n",
       "      <td>Orange Bowl</td>\n",
       "      <td>NaN</td>\n",
       "      <td>NaN</td>\n",
       "      <td>NaN</td>\n",
       "      <td>NaN</td>\n",
       "      <td>82.0</td>\n",
       "      <td>11.0</td>\n",
       "      <td>78</td>\n",
       "      <td>14.0</td>\n",
       "      <td>19.0</td>\n",
       "      <td>False</td>\n",
       "      <td>False</td>\n",
       "    </tr>\n",
       "    <tr>\n",
       "      <th>4</th>\n",
       "      <td>09/10/1966</td>\n",
       "      <td>1966</td>\n",
       "      <td>1</td>\n",
       "      <td>Green Bay Packers</td>\n",
       "      <td>Baltimore Colts</td>\n",
       "      <td>Lambeau Field</td>\n",
       "      <td>NaN</td>\n",
       "      <td>NaN</td>\n",
       "      <td>NaN</td>\n",
       "      <td>64 degrees-  humidity 62%- wind 8 mph</td>\n",
       "      <td>64.0</td>\n",
       "      <td>8.0</td>\n",
       "      <td>62</td>\n",
       "      <td>24.0</td>\n",
       "      <td>3.0</td>\n",
       "      <td>False</td>\n",
       "      <td>False</td>\n",
       "    </tr>\n",
       "  </tbody>\n",
       "</table>\n",
       "</div>"
      ],
      "text/plain": [
       "  schedule_date  schedule_season schedule_week           team_home  \\\n",
       "0    09/02/1966             1966             1      Miami Dolphins   \n",
       "1    09/03/1966             1966             1      Houston Oilers   \n",
       "2    09/04/1966             1966             1  San Diego Chargers   \n",
       "3    09/09/1966             1966             2      Miami Dolphins   \n",
       "4    09/10/1966             1966             1   Green Bay Packers   \n",
       "\n",
       "         team_away         stadium team_favorite_id  spread_favorite  \\\n",
       "0  Oakland Raiders     Orange Bowl              NaN              NaN   \n",
       "1   Denver Broncos    Rice Stadium              NaN              NaN   \n",
       "2    Buffalo Bills  Balboa Stadium              NaN              NaN   \n",
       "3    New York Jets     Orange Bowl              NaN              NaN   \n",
       "4  Baltimore Colts   Lambeau Field              NaN              NaN   \n",
       "\n",
       "  over_under_line                         weather_detail  weather_temperature  \\\n",
       "0             NaN                                    NaN                 83.0   \n",
       "1             NaN                                    NaN                 81.0   \n",
       "2             NaN                                    NaN                 70.0   \n",
       "3             NaN                                    NaN                 82.0   \n",
       "4             NaN  64 degrees-  humidity 62%- wind 8 mph                 64.0   \n",
       "\n",
       "   weather_wind_mph weather_humidity  score_home  score_away  stadium_neutral  \\\n",
       "0               6.0               71        14.0        23.0            False   \n",
       "1               7.0               70        45.0         7.0            False   \n",
       "2               7.0               82        27.0         7.0            False   \n",
       "3              11.0               78        14.0        19.0            False   \n",
       "4               8.0               62        24.0         3.0            False   \n",
       "\n",
       "   schedule_playoff  \n",
       "0             False  \n",
       "1             False  \n",
       "2             False  \n",
       "3             False  \n",
       "4             False  "
      ]
     },
     "execution_count": 2,
     "metadata": {},
     "output_type": "execute_result"
    }
   ],
   "source": [
    "import csv\n",
    "import pandas as pd\n",
    "df=pd.read_csv('spreadspoke_scores.csv')\n",
    "df.head()"
   ]
  },
  {
   "cell_type": "code",
   "execution_count": 3,
   "metadata": {
    "scrolled": true
   },
   "outputs": [
    {
     "data": {
      "text/plain": [
       "<matplotlib.axes._subplots.AxesSubplot at 0x21aed91deb8>"
      ]
     },
     "execution_count": 3,
     "metadata": {},
     "output_type": "execute_result"
    },
    {
     "data": {
      "image/png": "[encoded data removed]",
      "text/plain": [
       "<Figure size 432x288 with 1 Axes>"
      ]
     },
     "metadata": {},
     "output_type": "display_data"
    }
   ],
   "source": [
    "%matplotlib inline\n",
    "df.plot()"
   ]
  },
  {
   "cell_type": "code",
   "execution_count": null,
   "metadata": {},
   "outputs": [],
   "source": []
  }
 ],
 "metadata": {
  "kernelspec": {
   "display_name": "Python 3",
   "language": "python",
   "name": "python3"
  },
  "language_info": {
   "codemirror_mode": {
    "name": "ipython",
    "version": 3
   },
   "file_extension": ".py",
   "mimetype": "text/x-python",
   "name": "python",
   "nbconvert_exporter": "python",
   "pygments_lexer": "ipython3",
   "version": "3.6.5"
  }
 },
 "nbformat": 4,
 "nbformat_minor": 2
}
